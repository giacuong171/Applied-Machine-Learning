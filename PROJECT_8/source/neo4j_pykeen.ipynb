{
 "cells": [
  {
   "cell_type": "code",
   "execution_count": 1,
   "metadata": {},
   "outputs": [
    {
     "name": "stderr",
     "output_type": "stream",
     "text": [
      "/home/jacky/miniconda3/envs/project8/lib/python3.11/site-packages/tqdm/auto.py:21: TqdmWarning: IProgress not found. Please update jupyter and ipywidgets. See https://ipywidgets.readthedocs.io/en/stable/user_install.html\n",
      "  from .autonotebook import tqdm as notebook_tqdm\n"
     ]
    }
   ],
   "source": [
    "# Define Neo4j connections\n",
    "from neo4j import GraphDatabase\n",
    "import pandas as pd\n",
    "from pykeen.triples import TriplesFactory\n",
    "from pykeen.predict import predict_target\n",
    "from pykeen.pipeline import pipeline\n",
    "\n",
    "\n",
    "host = 'bolt://localhost:7687'\n",
    "user = 'neo4j'\n",
    "password = '12345678'\n",
    "driver = GraphDatabase.driver(host,auth=(user, password))\n",
    "                                         \n",
    "\n",
    "def run_query(query, params={}):\n",
    "    with driver.session() as session:\n",
    "        result = session.run(query, params)\n",
    "        return pd.DataFrame([r.values() for r in result], columns=result.keys())\n"
   ]
  },
  {
   "cell_type": "code",
   "execution_count": 2,
   "metadata": {},
   "outputs": [],
   "source": [
    "def diff_models(model_name,node,target_node,entity_name,links):\n",
    "    \"\"\"\n",
    "    input: \n",
    "        model_name: name of the model\n",
    "        node: name of the source node\n",
    "        target_node: name of the target node\n",
    "        entity_name: name of the entity\n",
    "        links: name of the relation\n",
    "    output:\n",
    "        push the predicted links to the graph with the new relation named as predicted_{links}_{model_name}\n",
    "    \"\"\"\n",
    "    data_query = f\"\"\"\n",
    "    MATCH (g)-[r]->(d)\n",
    "    RETURN toString(id(g)) as source, toString(id(d)) AS target, type(r) as type\n",
    "    \"\"\"\n",
    "    #Getting the data from neo4j\n",
    "    data  = run_query(data_query)\n",
    "    #Creating the triples factory\n",
    "    tf = TriplesFactory.from_labeled_triples(\n",
    "    data[[\"source\", \"type\", \"target\"]].values,\n",
    "    create_inverse_triples=False,\n",
    "    entity_to_id=None,\n",
    "    relation_to_id=None,\n",
    "    compact_id=False,\n",
    "    filter_out_candidate_inverse_relations=True,\n",
    "    metadata=None,\n",
    "    )\n",
    "    #Splitting the data\n",
    "    training, testing, validation = tf.split([.8, .1, .1])\n",
    "    #Running the pipeline\n",
    "    result = pipeline(\n",
    "    training=training,\n",
    "    testing=testing,\n",
    "    validation=validation,\n",
    "    model=model_name,\n",
    "    stopper='early',\n",
    "    epochs=20,\n",
    "    dimensions=512,\n",
    "    random_seed=420\n",
    "    )\n",
    "    predicted_link = \"predicted_\"+links + \"_\"+model_name\n",
    "    #Getting the id\n",
    "    id_query = f\"\"\"\n",
    "    MATCH (s:{node})\n",
    "    WHERE s.name = '{entity_name}'\n",
    "    RETURN toString(id(s)) as id\n",
    "    \"\"\"\n",
    "    id = run_query(id_query)['id'][0]\n",
    "    pred_transr_gd = predict_target(model = result.model,head=id,relation= links, triples_factory=result.training)\n",
    "    df_pred_transr_gd = pred_transr_gd.df\n",
    "    candidate_nodes = df_pred_transr_gd.head(5)['tail_label'].to_list()\n",
    "    push_query = f\"\"\"\n",
    "    MATCH (n)\n",
    "    WHERE id(n) = toInteger($compound_id)\n",
    "    UNWIND $candidates as ca\n",
    "    MATCH (c)\n",
    "    WHERE id(c) = toInteger(ca)\n",
    "    MERGE (n)-[:{predicted_link}]->(c)\n",
    "    \"\"\"\n",
    "    run_query(push_query, {'compound_id':id, 'candidates': candidate_nodes})\n",
    "    return result,testing,training,validation, predicted_link,pred_transr_gd"
   ]
  },
  {
   "cell_type": "code",
   "execution_count": 3,
   "metadata": {},
   "outputs": [],
   "source": [
    "def get_difference_entity(original_link,predicted_link,entity_name,source_node,target_node): \n",
    "    db_original_query = f\"\"\"\n",
    "        MATCH (g:{source_node})-[:{original_link}]-(d:{target_node})\n",
    "        WHERE g.name = '{entity_name}'\n",
    "        RETURN toString(g.name) as source, toString(d.name) AS target, \"{original_link}\" as type\n",
    "        \"\"\"\n",
    "    db_predicted_query = f\"\"\"\n",
    "        MATCH (g:{source_node})-[:{predicted_link}]-(d:{target_node})\n",
    "        WHERE g.name = '{entity_name}'\n",
    "        RETURN toString(g.name) as source, toString(d.name) AS target, \"{predicted_link}\" as type\n",
    "        \"\"\"\n",
    "    #Getting the data from neo4j\n",
    "    original  = run_query(db_original_query)\n",
    "    predicted = run_query(db_predicted_query)\n",
    "    difference = predicted[~predicted['target'].isin(original['target'])]['target']\n",
    "    return difference"
   ]
  },
  {
   "cell_type": "code",
   "execution_count": 4,
   "metadata": {},
   "outputs": [
    {
     "name": "stderr",
     "output_type": "stream",
     "text": [
      "using automatically assigned random_state=1003271739\n",
      "Training epochs on cuda:0:  45%|████▌     | 9/20 [01:49<01:57, 10.73s/epoch, loss=0.141, prev_loss=0.154]INFO:pykeen.evaluation.evaluator:Starting batch_size search for evaluation now...\n",
      "INFO:pykeen.evaluation.evaluator:Concluded batch_size search with batch_size=128.\n",
      "INFO:pykeen.evaluation.evaluator:Evaluation took 47.56s seconds\n",
      "INFO:pykeen.stoppers.early_stopping:New best result at epoch 10: 0.0826390372427544. Saved model weights to /home/jacky/.data/pykeen/checkpoints/best-model-weights-e4209e77-432f-404f-b9ab-d39e01ff0457.pt\n",
      "INFO:pykeen.training.training_loop:=> Saved checkpoint after having finished epoch 10.\n",
      "Training epochs on cuda:0:  95%|█████████▌| 19/20 [04:30<00:11, 11.55s/epoch, loss=0.0788, prev_loss=0.0822]INFO:pykeen.evaluation.evaluator:Evaluation took 47.57s seconds\n",
      "INFO:pykeen.stoppers.early_stopping:New best result at epoch 20: 0.09250160222174748. Saved model weights to /home/jacky/.data/pykeen/checkpoints/best-model-weights-e4209e77-432f-404f-b9ab-d39e01ff0457.pt\n",
      "INFO:pykeen.training.training_loop:=> Saved checkpoint after having finished epoch 20.\n",
      "Training epochs on cuda:0: 100%|██████████| 20/20 [05:19<00:00, 15.98s/epoch, loss=0.0788, prev_loss=0.0822]\n",
      "Evaluating on cuda:0: 100%|██████████| 56.2k/56.2k [00:47<00:00, 1.19ktriple/s]\n",
      "INFO:pykeen.evaluation.evaluator:Evaluation took 49.19s seconds\n"
     ]
    }
   ],
   "source": [
    "result,testing,training,validation,predicted_link,pred_transr_gd = diff_models('RotatE','Compound','Gene','Methotrexate','binds')"
   ]
  },
  {
   "cell_type": "code",
   "execution_count": 5,
   "metadata": {},
   "outputs": [
    {
     "data": {
      "text/html": [
       "<div>\n",
       "<style scoped>\n",
       "    .dataframe tbody tr th:only-of-type {\n",
       "        vertical-align: middle;\n",
       "    }\n",
       "\n",
       "    .dataframe tbody tr th {\n",
       "        vertical-align: top;\n",
       "    }\n",
       "\n",
       "    .dataframe thead th {\n",
       "        text-align: right;\n",
       "    }\n",
       "</style>\n",
       "<table border=\"1\" class=\"dataframe\">\n",
       "  <thead>\n",
       "    <tr style=\"text-align: right;\">\n",
       "      <th></th>\n",
       "      <th>tail_id</th>\n",
       "      <th>score</th>\n",
       "      <th>tail_label</th>\n",
       "    </tr>\n",
       "  </thead>\n",
       "  <tbody>\n",
       "    <tr>\n",
       "      <th>2136</th>\n",
       "      <td>2136</td>\n",
       "      <td>-4.211718</td>\n",
       "      <td>12180</td>\n",
       "    </tr>\n",
       "    <tr>\n",
       "      <th>9223</th>\n",
       "      <td>9223</td>\n",
       "      <td>-4.493398</td>\n",
       "      <td>1946</td>\n",
       "    </tr>\n",
       "    <tr>\n",
       "      <th>2288</th>\n",
       "      <td>2288</td>\n",
       "      <td>-4.624982</td>\n",
       "      <td>1234</td>\n",
       "    </tr>\n",
       "    <tr>\n",
       "      <th>1789</th>\n",
       "      <td>1789</td>\n",
       "      <td>-4.652893</td>\n",
       "      <td>1184</td>\n",
       "    </tr>\n",
       "    <tr>\n",
       "      <th>17311</th>\n",
       "      <td>17311</td>\n",
       "      <td>-4.682837</td>\n",
       "      <td>7342</td>\n",
       "    </tr>\n",
       "    <tr>\n",
       "      <th>...</th>\n",
       "      <td>...</td>\n",
       "      <td>...</td>\n",
       "      <td>...</td>\n",
       "    </tr>\n",
       "    <tr>\n",
       "      <th>17625</th>\n",
       "      <td>17625</td>\n",
       "      <td>-8.746363</td>\n",
       "      <td>7664</td>\n",
       "    </tr>\n",
       "    <tr>\n",
       "      <th>7297</th>\n",
       "      <td>7297</td>\n",
       "      <td>-8.807863</td>\n",
       "      <td>17477</td>\n",
       "    </tr>\n",
       "    <tr>\n",
       "      <th>18264</th>\n",
       "      <td>18264</td>\n",
       "      <td>-8.846934</td>\n",
       "      <td>8306</td>\n",
       "    </tr>\n",
       "    <tr>\n",
       "      <th>15499</th>\n",
       "      <td>15499</td>\n",
       "      <td>-8.853883</td>\n",
       "      <td>5487</td>\n",
       "    </tr>\n",
       "    <tr>\n",
       "      <th>15410</th>\n",
       "      <td>15410</td>\n",
       "      <td>-8.864584</td>\n",
       "      <td>5396</td>\n",
       "    </tr>\n",
       "  </tbody>\n",
       "</table>\n",
       "<p>19930 rows × 3 columns</p>\n",
       "</div>"
      ],
      "text/plain": [
       "       tail_id     score tail_label\n",
       "2136      2136 -4.211718      12180\n",
       "9223      9223 -4.493398       1946\n",
       "2288      2288 -4.624982       1234\n",
       "1789      1789 -4.652893       1184\n",
       "17311    17311 -4.682837       7342\n",
       "...        ...       ...        ...\n",
       "17625    17625 -8.746363       7664\n",
       "7297      7297 -8.807863      17477\n",
       "18264    18264 -8.846934       8306\n",
       "15499    15499 -8.853883       5487\n",
       "15410    15410 -8.864584       5396\n",
       "\n",
       "[19930 rows x 3 columns]"
      ]
     },
     "execution_count": 5,
     "metadata": {},
     "output_type": "execute_result"
    }
   ],
   "source": [
    "pred_transr_gd.df"
   ]
  },
  {
   "cell_type": "code",
   "execution_count": 6,
   "metadata": {},
   "outputs": [
    {
     "name": "stdout",
     "output_type": "stream",
     "text": [
      "1             CYP3A4\n",
      "2             CYP2C9\n",
      "3    CYP3A7-CYP3A51P\n",
      "4            SLC22A1\n",
      "Name: target, dtype: object\n"
     ]
    }
   ],
   "source": [
    "print(get_difference_entity('binds',predicted_link,'Methotrexate','Compound','Gene'))"
   ]
  },
  {
   "cell_type": "code",
   "execution_count": 7,
   "metadata": {},
   "outputs": [
    {
     "name": "stderr",
     "output_type": "stream",
     "text": [
      "INFO:pykeen.evaluation.evaluator:Starting batch_size search for evaluation now...\n",
      "INFO:pykeen.evaluation.evaluator:Concluded batch_size search with batch_size=128.\n",
      "Evaluating on cuda:0: 100%|██████████| 56.2k/56.2k [00:47<00:00, 1.18ktriple/s]\n",
      "INFO:pykeen.evaluation.evaluator:Evaluation took 49.42s seconds\n"
     ]
    }
   ],
   "source": [
    "from pykeen.evaluation import RankBasedEvaluator\n",
    "\n",
    "# Create an evaluator\n",
    "evaluator = RankBasedEvaluator()\n",
    "\n",
    "# Evaluate the model\n",
    "metrics = evaluator.evaluate(result.model, testing.mapped_triples, additional_filter_triples=[training.mapped_triples, validation.mapped_triples])\n"
   ]
  },
  {
   "cell_type": "code",
   "execution_count": 8,
   "metadata": {},
   "outputs": [
    {
     "name": "stdout",
     "output_type": "stream",
     "text": [
      "Hits@1: 0.02302748700420138\n",
      "Hits@3: 0.048627430036317025\n",
      "Hits@5: 0.06611835077974791\n",
      "Hits@10: 0.0978156376842555\n",
      "Mean Reciprocal Rank: 0.05043206736445427\n"
     ]
    }
   ],
   "source": [
    "print(f\"Hits@1: {metrics.get_metric('hits@1')}\")\n",
    "print(f\"Hits@3: {metrics.get_metric('hits@3')}\")\n",
    "print(f\"Hits@5: {metrics.get_metric('hits@5')}\")\n",
    "print(f\"Hits@10: {metrics.get_metric('hits@10')}\")\n",
    "print(f\"Mean Reciprocal Rank: {metrics.get_metric('mean_reciprocal_rank')}\")"
   ]
  },
  {
   "cell_type": "code",
   "execution_count": 10,
   "metadata": {},
   "outputs": [
    {
     "name": "stderr",
     "output_type": "stream",
     "text": [
      "WARNING:pykeen.utils:using automatically assigned random_state=3239547569\n",
      "INFO:pykeen.triples.splitting:done splitting triples to groups of sizes [430292, 56173, 56173]\n",
      "INFO:pykeen.pipeline.api:Using device: None\n",
      "INFO:pykeen.stoppers.early_stopping:Inferred checkpoint path for best model weights: /home/jacky/.data/pykeen/checkpoints/best-model-weights-67d40b0e-89ae-4e5f-b9ca-79a978683217.pt\n",
      "Training epochs on cuda:0:  45%|████▌     | 9/20 [01:13<01:22,  7.53s/epoch, loss=0.165, prev_loss=0.171]INFO:pykeen.evaluation.evaluator:Starting batch_size search for evaluation now...\n",
      "INFO:pykeen.evaluation.evaluator:Concluded batch_size search with batch_size=1024.\n",
      "INFO:pykeen.evaluation.evaluator:Evaluation took 17.58s seconds\n",
      "INFO:pykeen.stoppers.early_stopping:New best result at epoch 10: 0.032373204208427535. Saved model weights to /home/jacky/.data/pykeen/checkpoints/best-model-weights-67d40b0e-89ae-4e5f-b9ca-79a978683217.pt\n",
      "INFO:pykeen.training.training_loop:=> Saved checkpoint after having finished epoch 10.\n",
      "Training epochs on cuda:0:  95%|█████████▌| 19/20 [02:49<00:07,  7.11s/epoch, loss=0.137, prev_loss=0.137]INFO:pykeen.evaluation.evaluator:Evaluation took 17.48s seconds\n",
      "INFO:pykeen.stoppers.early_stopping:New best result at epoch 20: 0.03940505224930126. Saved model weights to /home/jacky/.data/pykeen/checkpoints/best-model-weights-67d40b0e-89ae-4e5f-b9ca-79a978683217.pt\n",
      "INFO:pykeen.training.training_loop:=> Saved checkpoint after having finished epoch 20.\n",
      "Training epochs on cuda:0: 100%|██████████| 20/20 [03:07<00:00,  9.38s/epoch, loss=0.137, prev_loss=0.137]\n",
      "Evaluating on cuda:0: 100%|██████████| 56.2k/56.2k [00:16<00:00, 3.34ktriple/s]\n",
      "INFO:pykeen.evaluation.evaluator:Evaluation took 18.86s seconds\n"
     ]
    }
   ],
   "source": [
    "result,testing,training,validation,predicted_link,pred_transr_gd =diff_models('TransE','Compound','Gene','Methotrexate','binds')"
   ]
  },
  {
   "cell_type": "code",
   "execution_count": 11,
   "metadata": {},
   "outputs": [
    {
     "name": "stderr",
     "output_type": "stream",
     "text": [
      "INFO:pykeen.evaluation.evaluator:Starting batch_size search for evaluation now...\n",
      "INFO:pykeen.evaluation.evaluator:Concluded batch_size search with batch_size=1024.\n",
      "Evaluating on cuda:0: 100%|██████████| 56.2k/56.2k [00:16<00:00, 3.34ktriple/s]\n",
      "INFO:pykeen.evaluation.evaluator:Evaluation took 18.85s seconds\n"
     ]
    }
   ],
   "source": [
    "from pykeen.evaluation import RankBasedEvaluator\n",
    "\n",
    "# Create an evaluator\n",
    "evaluator = RankBasedEvaluator()\n",
    "\n",
    "# Evaluate the model\n",
    "metrics = evaluator.evaluate(result.model, testing.mapped_triples, additional_filter_triples=[training.mapped_triples, validation.mapped_triples])"
   ]
  },
  {
   "cell_type": "code",
   "execution_count": 12,
   "metadata": {},
   "outputs": [
    {
     "name": "stdout",
     "output_type": "stream",
     "text": [
      "Hits@1: 0.0035604293877841667\n",
      "Hits@3: 0.01387677353888879\n",
      "Hits@5: 0.023089384579780322\n",
      "Hits@10: 0.04090933366564008\n",
      "Mean Reciprocal Rank: 0.019052209332585335\n"
     ]
    }
   ],
   "source": [
    "print(f\"Hits@1: {metrics.get_metric('hits@1')}\")\n",
    "print(f\"Hits@3: {metrics.get_metric('hits@3')}\")\n",
    "print(f\"Hits@5: {metrics.get_metric('hits@5')}\")\n",
    "print(f\"Hits@10: {metrics.get_metric('hits@10')}\")\n",
    "print(f\"Mean Reciprocal Rank: {metrics.get_metric('mean_reciprocal_rank')}\")"
   ]
  },
  {
   "cell_type": "code",
   "execution_count": 13,
   "metadata": {},
   "outputs": [
    {
     "name": "stdout",
     "output_type": "stream",
     "text": [
      "0    CYP1A2\n",
      "1    CYP3A5\n",
      "2      BCHE\n",
      "4    ADRA2A\n",
      "5    CYP2C9\n",
      "6    CYP1A1\n",
      "7    GABRA2\n",
      "8    CHRNA2\n",
      "Name: target, dtype: object\n"
     ]
    }
   ],
   "source": [
    "print(get_difference_entity('binds',predicted_link,'Methotrexate','Compound','Gene'))"
   ]
  },
  {
   "cell_type": "code",
   "execution_count": 14,
   "metadata": {},
   "outputs": [
    {
     "name": "stderr",
     "output_type": "stream",
     "text": [
      "WARNING:pykeen.utils:using automatically assigned random_state=3239547569\n",
      "INFO:pykeen.triples.splitting:done splitting triples to groups of sizes [430296, 56173, 56173]\n",
      "INFO:pykeen.pipeline.api:Using device: None\n",
      "INFO:pykeen.stoppers.early_stopping:Inferred checkpoint path for best model weights: /home/jacky/.data/pykeen/checkpoints/best-model-weights-a9da4856-85db-48c3-ba35-3c2ed27d7722.pt\n",
      "Training epochs on cuda:0:  45%|████▌     | 9/20 [02:06<02:23, 13.05s/epoch, loss=0.602, prev_loss=0.702]INFO:pykeen.evaluation.evaluator:Starting batch_size search for evaluation now...\n",
      "INFO:pykeen.evaluation.evaluator:Concluded batch_size search with batch_size=256.\n",
      "INFO:pykeen.evaluation.evaluator:Evaluation took 47.43s seconds\n",
      "INFO:pykeen.stoppers.early_stopping:New best result at epoch 10: 0.002429993057162694. Saved model weights to /home/jacky/.data/pykeen/checkpoints/best-model-weights-a9da4856-85db-48c3-ba35-3c2ed27d7722.pt\n",
      "INFO:pykeen.training.training_loop:=> Saved checkpoint after having finished epoch 10.\n",
      "Training epochs on cuda:0:  95%|█████████▌| 19/20 [05:03<00:13, 13.01s/epoch, loss=0.14, prev_loss=0.152] INFO:pykeen.evaluation.evaluator:Evaluation took 47.34s seconds\n",
      "INFO:pykeen.stoppers.early_stopping:New best result at epoch 20: 0.010414255959268688. Saved model weights to /home/jacky/.data/pykeen/checkpoints/best-model-weights-a9da4856-85db-48c3-ba35-3c2ed27d7722.pt\n",
      "INFO:pykeen.training.training_loop:=> Saved checkpoint after having finished epoch 20.\n",
      "Training epochs on cuda:0: 100%|██████████| 20/20 [05:52<00:00, 17.64s/epoch, loss=0.14, prev_loss=0.152]\n",
      "Evaluating on cuda:0: 100%|██████████| 56.2k/56.2k [00:46<00:00, 1.20ktriple/s]\n",
      "INFO:pykeen.evaluation.evaluator:Evaluation took 48.99s seconds\n"
     ]
    }
   ],
   "source": [
    "result,testing,training,validation,predicted_link,pred_transr_gd =diff_models('SimplE','Compound','Gene','Methotrexate','binds')"
   ]
  },
  {
   "cell_type": "code",
   "execution_count": 15,
   "metadata": {},
   "outputs": [
    {
     "name": "stderr",
     "output_type": "stream",
     "text": [
      "INFO:pykeen.evaluation.evaluator:Starting batch_size search for evaluation now...\n",
      "INFO:pykeen.evaluation.evaluator:Concluded batch_size search with batch_size=256.\n",
      "Evaluating on cuda:0: 100%|██████████| 56.2k/56.2k [00:47<00:00, 1.19ktriple/s]\n",
      "INFO:pykeen.evaluation.evaluator:Evaluation took 49.12s seconds\n"
     ]
    }
   ],
   "source": [
    "from pykeen.evaluation import RankBasedEvaluator\n",
    "\n",
    "# Create an evaluator\n",
    "evaluator = RankBasedEvaluator()\n",
    "\n",
    "# Evaluate the model\n",
    "metrics = evaluator.evaluate(result.model, testing.mapped_triples, additional_filter_triples=[training.mapped_triples, validation.mapped_triples])"
   ]
  },
  {
   "cell_type": "code",
   "execution_count": 16,
   "metadata": {},
   "outputs": [
    {
     "name": "stdout",
     "output_type": "stream",
     "text": [
      "Hits@1: 0.0010592277428657895\n",
      "Hits@3: 0.0036583411959482314\n",
      "Hits@5: 0.005945917077599559\n",
      "Hits@10: 0.010779199971516565\n",
      "Mean Reciprocal Rank: 0.0058013666421175\n"
     ]
    }
   ],
   "source": [
    "print(f\"Hits@1: {metrics.get_metric('hits@1')}\")\n",
    "print(f\"Hits@3: {metrics.get_metric('hits@3')}\")\n",
    "print(f\"Hits@5: {metrics.get_metric('hits@5')}\")\n",
    "print(f\"Hits@10: {metrics.get_metric('hits@10')}\")\n",
    "print(f\"Mean Reciprocal Rank: {metrics.get_metric('mean_reciprocal_rank')}\")"
   ]
  },
  {
   "cell_type": "code",
   "execution_count": 17,
   "metadata": {},
   "outputs": [
    {
     "name": "stdout",
     "output_type": "stream",
     "text": [
      "0     CHST3\n",
      "1      NRAS\n",
      "2     NT5C2\n",
      "3    ZNF100\n",
      "4      CHN1\n",
      "Name: target, dtype: object\n"
     ]
    }
   ],
   "source": [
    "print(get_difference_entity('binds',predicted_link,'Methotrexate','Compound','Gene'))"
   ]
  },
  {
   "cell_type": "code",
   "execution_count": 18,
   "metadata": {},
   "outputs": [
    {
     "name": "stderr",
     "output_type": "stream",
     "text": [
      "WARNING:pykeen.utils:using automatically assigned random_state=3239547569\n",
      "INFO:pykeen.triples.splitting:done splitting triples to groups of sizes [430299, 56173, 56174]\n",
      "INFO:pykeen.pipeline.api:Using device: None\n",
      "INFO:pykeen.stoppers.early_stopping:Inferred checkpoint path for best model weights: /home/jacky/.data/pykeen/checkpoints/best-model-weights-553f5a7c-e1a8-4aed-aa74-46eeedbc95a9.pt\n",
      "Training epochs on cuda:0:  45%|████▌     | 9/20 [01:47<01:55, 10.46s/epoch, loss=0.14, prev_loss=0.154] INFO:pykeen.evaluation.evaluator:Starting batch_size search for evaluation now...\n",
      "INFO:pykeen.evaluation.evaluator:Concluded batch_size search with batch_size=128.\n",
      "INFO:pykeen.evaluation.evaluator:Evaluation took 46.98s seconds\n",
      "INFO:pykeen.stoppers.early_stopping:New best result at epoch 10: 0.0834460782568448. Saved model weights to /home/jacky/.data/pykeen/checkpoints/best-model-weights-553f5a7c-e1a8-4aed-aa74-46eeedbc95a9.pt\n",
      "INFO:pykeen.training.training_loop:=> Saved checkpoint after having finished epoch 10.\n",
      "Training epochs on cuda:0:  95%|█████████▌| 19/20 [04:24<00:11, 11.18s/epoch, loss=0.0788, prev_loss=0.0827]INFO:pykeen.evaluation.evaluator:Evaluation took 46.80s seconds\n",
      "INFO:pykeen.stoppers.early_stopping:New best result at epoch 20: 0.09317477836721615. Saved model weights to /home/jacky/.data/pykeen/checkpoints/best-model-weights-553f5a7c-e1a8-4aed-aa74-46eeedbc95a9.pt\n",
      "INFO:pykeen.training.training_loop:=> Saved checkpoint after having finished epoch 20.\n",
      "Training epochs on cuda:0: 100%|██████████| 20/20 [05:12<00:00, 15.64s/epoch, loss=0.0788, prev_loss=0.0827]\n",
      "Evaluating on cuda:0: 100%|██████████| 56.2k/56.2k [00:46<00:00, 1.20ktriple/s]\n",
      "INFO:pykeen.evaluation.evaluator:Evaluation took 48.83s seconds\n"
     ]
    }
   ],
   "source": [
    "result,testing,training,validation,predicted_link,pred_transr_gd =diff_models('RotatE','Disease','Gene','colon cancer','associates')"
   ]
  },
  {
   "cell_type": "code",
   "execution_count": 19,
   "metadata": {},
   "outputs": [
    {
     "name": "stderr",
     "output_type": "stream",
     "text": [
      "INFO:pykeen.evaluation.evaluator:Starting batch_size search for evaluation now...\n",
      "INFO:pykeen.evaluation.evaluator:Concluded batch_size search with batch_size=128.\n",
      "Evaluating on cuda:0: 100%|██████████| 56.2k/56.2k [00:47<00:00, 1.19ktriple/s]\n",
      "INFO:pykeen.evaluation.evaluator:Evaluation took 49.24s seconds\n"
     ]
    }
   ],
   "source": [
    "from pykeen.evaluation import RankBasedEvaluator\n",
    "\n",
    "# Create an evaluator\n",
    "evaluator = RankBasedEvaluator()\n",
    "\n",
    "# Evaluate the model\n",
    "metrics = evaluator.evaluate(result.model, testing.mapped_triples, additional_filter_triples=[training.mapped_triples, validation.mapped_triples])"
   ]
  },
  {
   "cell_type": "code",
   "execution_count": 20,
   "metadata": {},
   "outputs": [
    {
     "name": "stdout",
     "output_type": "stream",
     "text": [
      "Hits@1: 0.02240400192263187\n",
      "Hits@3: 0.048938101935093375\n",
      "Hits@5: 0.067122995033201\n",
      "Hits@10: 0.10007476901714346\n",
      "Mean Reciprocal Rank: 0.0505916066467762\n"
     ]
    }
   ],
   "source": [
    "print(f\"Hits@1: {metrics.get_metric('hits@1')}\")\n",
    "print(f\"Hits@3: {metrics.get_metric('hits@3')}\")\n",
    "print(f\"Hits@5: {metrics.get_metric('hits@5')}\")\n",
    "print(f\"Hits@10: {metrics.get_metric('hits@10')}\")\n",
    "print(f\"Mean Reciprocal Rank: {metrics.get_metric('mean_reciprocal_rank')}\")"
   ]
  },
  {
   "cell_type": "code",
   "execution_count": 21,
   "metadata": {},
   "outputs": [
    {
     "name": "stdout",
     "output_type": "stream",
     "text": [
      "2    BIRC5\n",
      "3      FAS\n",
      "4     RGS2\n",
      "Name: target, dtype: object\n"
     ]
    }
   ],
   "source": [
    "print(get_difference_entity('associates',predicted_link,'colon cancer','Disease','Gene'))"
   ]
  },
  {
   "cell_type": "code",
   "execution_count": 22,
   "metadata": {},
   "outputs": [
    {
     "name": "stderr",
     "output_type": "stream",
     "text": [
      "WARNING:pykeen.utils:using automatically assigned random_state=3239547569\n",
      "INFO:pykeen.triples.splitting:done splitting triples to groups of sizes [430304, 56174, 56174]\n",
      "INFO:pykeen.pipeline.api:Using device: None\n",
      "INFO:pykeen.stoppers.early_stopping:Inferred checkpoint path for best model weights: /home/jacky/.data/pykeen/checkpoints/best-model-weights-2c1657cf-4726-47ec-8930-e75d81a5125a.pt\n",
      "Training epochs on cuda:0:  45%|████▌     | 9/20 [01:09<01:17,  7.05s/epoch, loss=0.165, prev_loss=0.17] INFO:pykeen.evaluation.evaluator:Starting batch_size search for evaluation now...\n",
      "INFO:pykeen.evaluation.evaluator:Concluded batch_size search with batch_size=1024.\n",
      "INFO:pykeen.evaluation.evaluator:Evaluation took 17.32s seconds\n",
      "INFO:pykeen.stoppers.early_stopping:New best result at epoch 10: 0.03217680777583936. Saved model weights to /home/jacky/.data/pykeen/checkpoints/best-model-weights-2c1657cf-4726-47ec-8930-e75d81a5125a.pt\n",
      "INFO:pykeen.training.training_loop:=> Saved checkpoint after having finished epoch 10.\n",
      "Training epochs on cuda:0:  95%|█████████▌| 19/20 [02:43<00:07,  7.01s/epoch, loss=0.136, prev_loss=0.137]INFO:pykeen.evaluation.evaluator:Evaluation took 16.54s seconds\n",
      "INFO:pykeen.stoppers.early_stopping:New best result at epoch 20: 0.038220529070388434. Saved model weights to /home/jacky/.data/pykeen/checkpoints/best-model-weights-2c1657cf-4726-47ec-8930-e75d81a5125a.pt\n",
      "INFO:pykeen.training.training_loop:=> Saved checkpoint after having finished epoch 20.\n",
      "Training epochs on cuda:0: 100%|██████████| 20/20 [03:00<00:00,  9.01s/epoch, loss=0.136, prev_loss=0.137]\n",
      "Evaluating on cuda:0: 100%|██████████| 56.2k/56.2k [00:15<00:00, 3.53ktriple/s]\n",
      "INFO:pykeen.evaluation.evaluator:Evaluation took 18.03s seconds\n"
     ]
    }
   ],
   "source": [
    "result,testing,training,validation,predicted_link,pred_transr_gd =diff_models('TransE','Disease','Gene','colon cancer','associates')"
   ]
  },
  {
   "cell_type": "code",
   "execution_count": 23,
   "metadata": {},
   "outputs": [
    {
     "name": "stderr",
     "output_type": "stream",
     "text": [
      "INFO:pykeen.evaluation.evaluator:Starting batch_size search for evaluation now...\n",
      "INFO:pykeen.evaluation.evaluator:Concluded batch_size search with batch_size=1024.\n",
      "Evaluating on cuda:0: 100%|██████████| 56.2k/56.2k [00:16<00:00, 3.49ktriple/s]\n",
      "INFO:pykeen.evaluation.evaluator:Evaluation took 18.11s seconds\n"
     ]
    }
   ],
   "source": [
    "from pykeen.evaluation import RankBasedEvaluator\n",
    "\n",
    "# Create an evaluator\n",
    "evaluator = RankBasedEvaluator()\n",
    "\n",
    "# Evaluate the model\n",
    "metrics = evaluator.evaluate(result.model, testing.mapped_triples, additional_filter_triples=[training.mapped_triples, validation.mapped_triples])"
   ]
  },
  {
   "cell_type": "code",
   "execution_count": 24,
   "metadata": {},
   "outputs": [
    {
     "name": "stdout",
     "output_type": "stream",
     "text": [
      "Hits@1: 0.0042368355466942\n",
      "Hits@3: 0.014277067682557766\n",
      "Hits@5: 0.02270623420087585\n",
      "Hits@10: 0.04040125324883398\n",
      "Mean Reciprocal Rank: 0.019445380195975304\n"
     ]
    }
   ],
   "source": [
    "print(f\"Hits@1: {metrics.get_metric('hits@1')}\")\n",
    "print(f\"Hits@3: {metrics.get_metric('hits@3')}\")\n",
    "print(f\"Hits@5: {metrics.get_metric('hits@5')}\")\n",
    "print(f\"Hits@10: {metrics.get_metric('hits@10')}\")\n",
    "print(f\"Mean Reciprocal Rank: {metrics.get_metric('mean_reciprocal_rank')}\")"
   ]
  },
  {
   "cell_type": "code",
   "execution_count": 25,
   "metadata": {},
   "outputs": [
    {
     "name": "stdout",
     "output_type": "stream",
     "text": [
      "0      APOE\n",
      "1    NFKBIA\n",
      "2       WT1\n",
      "3       CRP\n",
      "4       AGT\n",
      "Name: target, dtype: object\n"
     ]
    }
   ],
   "source": [
    "print(get_difference_entity('associates',predicted_link,'colon cancer','Disease','Gene'))"
   ]
  },
  {
   "cell_type": "code",
   "execution_count": 26,
   "metadata": {},
   "outputs": [
    {
     "name": "stderr",
     "output_type": "stream",
     "text": [
      "WARNING:pykeen.utils:using automatically assigned random_state=3239547569\n",
      "INFO:pykeen.triples.splitting:done splitting triples to groups of sizes [430308, 56174, 56175]\n",
      "INFO:pykeen.pipeline.api:Using device: None\n",
      "INFO:pykeen.stoppers.early_stopping:Inferred checkpoint path for best model weights: /home/jacky/.data/pykeen/checkpoints/best-model-weights-4d550e7e-0875-4e60-9594-0f969b601331.pt\n",
      "Training epochs on cuda:0:  45%|████▌     | 9/20 [02:00<02:08, 11.70s/epoch, loss=0.584, prev_loss=0.688]INFO:pykeen.evaluation.evaluator:Starting batch_size search for evaluation now...\n",
      "INFO:pykeen.evaluation.evaluator:Concluded batch_size search with batch_size=256.\n",
      "INFO:pykeen.evaluation.evaluator:Evaluation took 44.98s seconds\n",
      "INFO:pykeen.stoppers.early_stopping:New best result at epoch 10: 0.0024388072986203826. Saved model weights to /home/jacky/.data/pykeen/checkpoints/best-model-weights-4d550e7e-0875-4e60-9594-0f969b601331.pt\n",
      "INFO:pykeen.training.training_loop:=> Saved checkpoint after having finished epoch 10.\n",
      "Training epochs on cuda:0:  95%|█████████▌| 19/20 [04:52<00:12, 12.90s/epoch, loss=0.141, prev_loss=0.153]INFO:pykeen.evaluation.evaluator:Evaluation took 46.73s seconds\n",
      "INFO:pykeen.stoppers.early_stopping:New best result at epoch 20: 0.010538495772140631. Saved model weights to /home/jacky/.data/pykeen/checkpoints/best-model-weights-4d550e7e-0875-4e60-9594-0f969b601331.pt\n",
      "INFO:pykeen.training.training_loop:=> Saved checkpoint after having finished epoch 20.\n",
      "Training epochs on cuda:0: 100%|██████████| 20/20 [05:40<00:00, 17.04s/epoch, loss=0.141, prev_loss=0.153]\n",
      "Evaluating on cuda:0: 100%|██████████| 56.2k/56.2k [00:47<00:00, 1.18ktriple/s]\n",
      "INFO:pykeen.evaluation.evaluator:Evaluation took 49.84s seconds\n"
     ]
    }
   ],
   "source": [
    "result,testing,training,validation,predicted_link,pred_transr_gd =diff_models('SimplE','Disease','Gene','colon cancer','associates')"
   ]
  },
  {
   "cell_type": "code",
   "execution_count": 27,
   "metadata": {},
   "outputs": [
    {
     "name": "stderr",
     "output_type": "stream",
     "text": [
      "INFO:pykeen.evaluation.evaluator:Starting batch_size search for evaluation now...\n"
     ]
    },
    {
     "name": "stderr",
     "output_type": "stream",
     "text": [
      "INFO:pykeen.evaluation.evaluator:Concluded batch_size search with batch_size=256.\n",
      "Evaluating on cuda:0: 100%|██████████| 56.2k/56.2k [00:47<00:00, 1.17ktriple/s]\n",
      "INFO:pykeen.evaluation.evaluator:Evaluation took 50.00s seconds\n"
     ]
    }
   ],
   "source": [
    "from pykeen.evaluation import RankBasedEvaluator\n",
    "\n",
    "# Create an evaluator\n",
    "evaluator = RankBasedEvaluator()\n",
    "\n",
    "# Evaluate the model\n",
    "metrics = evaluator.evaluate(result.model, testing.mapped_triples, additional_filter_triples=[training.mapped_triples, validation.mapped_triples])"
   ]
  },
  {
   "cell_type": "code",
   "execution_count": 28,
   "metadata": {},
   "outputs": [
    {
     "name": "stdout",
     "output_type": "stream",
     "text": [
      "Hits@1: 0.0010859116317157404\n",
      "Hits@3: 0.003480257770498807\n",
      "Hits@5: 0.005545270053761527\n",
      "Hits@10: 0.010316160501299534\n",
      "Mean Reciprocal Rank: 0.005759171210229398\n"
     ]
    }
   ],
   "source": [
    "print(f\"Hits@1: {metrics.get_metric('hits@1')}\")\n",
    "print(f\"Hits@3: {metrics.get_metric('hits@3')}\")\n",
    "print(f\"Hits@5: {metrics.get_metric('hits@5')}\")\n",
    "print(f\"Hits@10: {metrics.get_metric('hits@10')}\")\n",
    "print(f\"Mean Reciprocal Rank: {metrics.get_metric('mean_reciprocal_rank')}\")"
   ]
  },
  {
   "cell_type": "code",
   "execution_count": 29,
   "metadata": {},
   "outputs": [
    {
     "name": "stdout",
     "output_type": "stream",
     "text": [
      "0      ABHD3\n",
      "1    ALDH3B2\n",
      "2     COL1A1\n",
      "3      SEL1L\n",
      "4      TRAP1\n",
      "Name: target, dtype: object\n"
     ]
    }
   ],
   "source": [
    "print(get_difference_entity('associates',predicted_link,'colon cancer','Disease','Gene'))"
   ]
  }
 ],
 "metadata": {
  "kernelspec": {
   "display_name": "project8",
   "language": "python",
   "name": "python3"
  },
  "language_info": {
   "codemirror_mode": {
    "name": "ipython",
    "version": 3
   },
   "file_extension": ".py",
   "mimetype": "text/x-python",
   "name": "python",
   "nbconvert_exporter": "python",
   "pygments_lexer": "ipython3",
   "version": "3.11.4"
  },
  "orig_nbformat": 4
 },
 "nbformat": 4,
 "nbformat_minor": 2
}
